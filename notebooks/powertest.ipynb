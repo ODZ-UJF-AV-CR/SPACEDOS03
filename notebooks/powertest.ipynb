{
 "cells": [
  {
   "cell_type": "code",
   "execution_count": 1,
   "id": "5f690e2f-f86a-42c1-9f7c-bb4fdcfe005a",
   "metadata": {},
   "outputs": [],
   "source": [
    "import pandas as pd\n",
    "import numpy as np\n",
    "from datetime import datetime, timedelta\n",
    "from IPython.display import Image as ImageDisp\n",
    "from pandas import DataFrame\n",
    "import string\n",
    "import os\n",
    "import glob\n",
    "import matplotlib.pyplot as plt\n",
    "import matplotlib"
   ]
  },
  {
   "cell_type": "code",
   "execution_count": 2,
   "id": "ae43ab7d-bee4-4147-9a88-9b117220b317",
   "metadata": {},
   "outputs": [
    {
     "name": "stderr",
     "output_type": "stream",
     "text": [
      "/tmp/ipykernel_5647/341285886.py:3: DtypeWarning: Columns (0) have mixed types. Specify dtype option on import or set low_memory=False.\n",
      "  df = pd.read_csv(fto, header=None, skiprows=30)\n"
     ]
    }
   ],
   "source": [
    "fto = '/storage/experiments/2022/11_spacedos_power_test/ilog.log' #  File to Open\n",
    "\n",
    "df = pd.read_csv(fto, header=None, skiprows=30)\n",
    "df['time'] = df.index * (1/123)\n",
    "df = df[:-5]"
   ]
  },
  {
   "cell_type": "code",
   "execution_count": 5,
   "id": "1a947d61-fa61-4e02-b5fe-f7e98455e720",
   "metadata": {},
   "outputs": [
    {
     "data": {
      "image/png": "[encoded data removed]",
      "text/plain": [
       "<Figure size 1440x360 with 1 Axes>"
      ]
     },
     "metadata": {
      "needs_background": "light"
     },
     "output_type": "display_data"
    }
   ],
   "source": [
    "plt.figure(figsize=(20,5))\n",
    "matplotlib.rcParams.update({'font.size': 15})\n",
    "\n",
    "plt.plot(df['time'], df[0], drawstyle='steps-mid')\n",
    "plt.xlim(0,60)\n",
    "plt.xlabel('time [s]')\n",
    "plt.ylabel('I [A]')\n",
    "plt.grid()"
   ]
  },
  {
   "cell_type": "code",
   "execution_count": 6,
   "id": "70d4112a-7c42-4332-b791-69d9794e9ba9",
   "metadata": {},
   "outputs": [
    {
     "data": {
      "text/html": [
       "<div>\n",
       "<style scoped>\n",
       "    .dataframe tbody tr th:only-of-type {\n",
       "        vertical-align: middle;\n",
       "    }\n",
       "\n",
       "    .dataframe tbody tr th {\n",
       "        vertical-align: top;\n",
       "    }\n",
       "\n",
       "    .dataframe thead th {\n",
       "        text-align: right;\n",
       "    }\n",
       "</style>\n",
       "<table border=\"1\" class=\"dataframe\">\n",
       "  <thead>\n",
       "    <tr style=\"text-align: right;\">\n",
       "      <th></th>\n",
       "      <th>0</th>\n",
       "      <th>time</th>\n",
       "    </tr>\n",
       "  </thead>\n",
       "  <tbody>\n",
       "    <tr>\n",
       "      <th>0</th>\n",
       "      <td>0.002106</td>\n",
       "      <td>0.000000</td>\n",
       "    </tr>\n",
       "    <tr>\n",
       "      <th>1</th>\n",
       "      <td>0.002105</td>\n",
       "      <td>0.008130</td>\n",
       "    </tr>\n",
       "    <tr>\n",
       "      <th>2</th>\n",
       "      <td>0.002115</td>\n",
       "      <td>0.016260</td>\n",
       "    </tr>\n",
       "    <tr>\n",
       "      <th>3</th>\n",
       "      <td>0.002115</td>\n",
       "      <td>0.024390</td>\n",
       "    </tr>\n",
       "    <tr>\n",
       "      <th>4</th>\n",
       "      <td>0.002111</td>\n",
       "      <td>0.032520</td>\n",
       "    </tr>\n",
       "    <tr>\n",
       "      <th>...</th>\n",
       "      <td>...</td>\n",
       "      <td>...</td>\n",
       "    </tr>\n",
       "    <tr>\n",
       "      <th>5203707</th>\n",
       "      <td>2.12968012E-03</td>\n",
       "      <td>42306.560976</td>\n",
       "    </tr>\n",
       "    <tr>\n",
       "      <th>5203708</th>\n",
       "      <td>2.11986534E-03</td>\n",
       "      <td>42306.569106</td>\n",
       "    </tr>\n",
       "    <tr>\n",
       "      <th>5203709</th>\n",
       "      <td>2.10849501E-03</td>\n",
       "      <td>42306.577236</td>\n",
       "    </tr>\n",
       "    <tr>\n",
       "      <th>5203710</th>\n",
       "      <td>2.10668021E-03</td>\n",
       "      <td>42306.585366</td>\n",
       "    </tr>\n",
       "    <tr>\n",
       "      <th>5203711</th>\n",
       "      <td>2.12079126E-03</td>\n",
       "      <td>42306.593496</td>\n",
       "    </tr>\n",
       "  </tbody>\n",
       "</table>\n",
       "<p>5203712 rows × 2 columns</p>\n",
       "</div>"
      ],
      "text/plain": [
       "                      0          time\n",
       "0              0.002106      0.000000\n",
       "1              0.002105      0.008130\n",
       "2              0.002115      0.016260\n",
       "3              0.002115      0.024390\n",
       "4              0.002111      0.032520\n",
       "...                 ...           ...\n",
       "5203707  2.12968012E-03  42306.560976\n",
       "5203708  2.11986534E-03  42306.569106\n",
       "5203709  2.10849501E-03  42306.577236\n",
       "5203710  2.10668021E-03  42306.585366\n",
       "5203711  2.12079126E-03  42306.593496\n",
       "\n",
       "[5203712 rows x 2 columns]"
      ]
     },
     "execution_count": 6,
     "metadata": {},
     "output_type": "execute_result"
    }
   ],
   "source": [
    "df"
   ]
  },
  {
   "cell_type": "code",
   "execution_count": null,
   "id": "6bcbe3d6-aba7-4c94-b48d-fbffd97bf54d",
   "metadata": {},
   "outputs": [],
   "source": []
  }
 ],
 "metadata": {
  "kernelspec": {
   "display_name": "Python 3",
   "language": "python",
   "name": "ipython_py3"
  },
  "language_info": {
   "codemirror_mode": {
    "name": "ipython",
    "version": 3
   },
   "file_extension": ".py",
   "mimetype": "text/x-python",
   "name": "python",
   "nbconvert_exporter": "python",
   "pygments_lexer": "ipython3",
   "version": "3.8.13"
  }
 },
 "nbformat": 4,
 "nbformat_minor": 5
}
